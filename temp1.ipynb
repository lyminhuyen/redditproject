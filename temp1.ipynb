{
 "cells": [
  {
   "cell_type": "code",
   "id": "initial_id",
   "metadata": {
    "collapsed": true,
    "ExecuteTime": {
     "end_time": "2025-05-03T14:36:08.822642Z",
     "start_time": "2025-05-03T14:36:08.751823Z"
    }
   },
   "source": [
    "import snscrape.modules.twitter as sntwitter\n",
    "import pandas as pd\n",
    "\n",
    "query = \"(AI OR ChatGPT OR AGI OR Midjourney) lang:en since:2024-01-01\"\n",
    "tweets = []\n",
    "\n",
    "for i, tweet in enumerate(sntwitter.TwitterSearchScraper(query).get_items()):\n",
    "    if i >= 100:\n",
    "        break\n",
    "    tweets.append([tweet.date, tweet.user.username, tweet.content])\n",
    "\n",
    "df = pd.DataFrame(tweets, columns=[\"date\", \"username\", \"content\"])\n",
    "df.to_csv(\"ai_tech_tweets.csv\", index=False)\n",
    "print(\"Saved 100 tweets to ai_tech_tweets.csv\")"
   ],
   "outputs": [
    {
     "ename": "AttributeError",
     "evalue": "'FileFinder' object has no attribute 'find_module'",
     "output_type": "error",
     "traceback": [
      "\u001B[31m---------------------------------------------------------------------------\u001B[39m",
      "\u001B[31mAttributeError\u001B[39m                            Traceback (most recent call last)",
      "\u001B[36mCell\u001B[39m\u001B[36m \u001B[39m\u001B[32mIn[7]\u001B[39m\u001B[32m, line 1\u001B[39m\n\u001B[32m----> \u001B[39m\u001B[32m1\u001B[39m \u001B[38;5;28;01mimport\u001B[39;00m\u001B[38;5;250m \u001B[39m\u001B[34;01msnscrape\u001B[39;00m\u001B[34;01m.\u001B[39;00m\u001B[34;01mmodules\u001B[39;00m\u001B[34;01m.\u001B[39;00m\u001B[34;01mtwitter\u001B[39;00m\u001B[38;5;250m \u001B[39m\u001B[38;5;28;01mas\u001B[39;00m\u001B[38;5;250m \u001B[39m\u001B[34;01msntwitter\u001B[39;00m\n\u001B[32m      2\u001B[39m \u001B[38;5;28;01mimport\u001B[39;00m\u001B[38;5;250m \u001B[39m\u001B[34;01mpandas\u001B[39;00m\u001B[38;5;250m \u001B[39m\u001B[38;5;28;01mas\u001B[39;00m\u001B[38;5;250m \u001B[39m\u001B[34;01mpd\u001B[39;00m\n\u001B[32m      4\u001B[39m query = \u001B[33m\"\u001B[39m\u001B[33m(AI OR ChatGPT OR AGI OR Midjourney) lang:en since:2024-01-01\u001B[39m\u001B[33m\"\u001B[39m\n",
      "\u001B[36mFile \u001B[39m\u001B[32m~\\miniconda3\\Lib\\site-packages\\snscrape\\modules\\__init__.py:17\u001B[39m\n\u001B[32m     13\u001B[39m \t\tmodule = importer.find_module(moduleName).load_module(moduleName)\n\u001B[32m     14\u001B[39m \t\t\u001B[38;5;28mglobals\u001B[39m()[moduleNameWithoutPrefix] = module\n\u001B[32m---> \u001B[39m\u001B[32m17\u001B[39m _import_modules()\n",
      "\u001B[36mFile \u001B[39m\u001B[32m~\\miniconda3\\Lib\\site-packages\\snscrape\\modules\\__init__.py:13\u001B[39m, in \u001B[36m_import_modules\u001B[39m\u001B[34m()\u001B[39m\n\u001B[32m     11\u001B[39m moduleNameWithoutPrefix = moduleName[prefixLen:]\n\u001B[32m     12\u001B[39m __all__.append(moduleNameWithoutPrefix)\n\u001B[32m---> \u001B[39m\u001B[32m13\u001B[39m module = importer.find_module(moduleName).load_module(moduleName)\n\u001B[32m     14\u001B[39m \u001B[38;5;28mglobals\u001B[39m()[moduleNameWithoutPrefix] = module\n",
      "\u001B[31mAttributeError\u001B[39m: 'FileFinder' object has no attribute 'find_module'"
     ]
    }
   ],
   "execution_count": 7
  },
  {
   "metadata": {
    "ExecuteTime": {
     "end_time": "2025-05-03T14:35:42.954805Z",
     "start_time": "2025-05-03T14:35:42.950964Z"
    }
   },
   "cell_type": "code",
   "source": "",
   "id": "9babc474e6f4e578",
   "outputs": [],
   "execution_count": null
  },
  {
   "metadata": {
    "ExecuteTime": {
     "end_time": "2025-05-03T14:35:43.565578Z",
     "start_time": "2025-05-03T14:35:43.562552Z"
    }
   },
   "cell_type": "code",
   "source": "",
   "id": "a7f5678c3021ba03",
   "outputs": [],
   "execution_count": null
  },
  {
   "metadata": {},
   "cell_type": "code",
   "outputs": [],
   "execution_count": null,
   "source": "",
   "id": "81ba819c11872f16"
  }
 ],
 "metadata": {
  "kernelspec": {
   "display_name": "Python 3",
   "language": "python",
   "name": "python3"
  },
  "language_info": {
   "codemirror_mode": {
    "name": "ipython",
    "version": 2
   },
   "file_extension": ".py",
   "mimetype": "text/x-python",
   "name": "python",
   "nbconvert_exporter": "python",
   "pygments_lexer": "ipython2",
   "version": "2.7.6"
  }
 },
 "nbformat": 4,
 "nbformat_minor": 5
}
