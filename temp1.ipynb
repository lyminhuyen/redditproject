{
 "cells": [
  {
   "cell_type": "code",
   "id": "initial_id",
   "metadata": {
    "collapsed": true
   },
   "source": [
    "def get_latest_posts(limits):\n",
    "    reddit = praw.Reddit(\n",
    "        client_id=\"gK4gpkYtFvY1UMyGphPBzw\",\n",
    "        client_secret=\"KyeJsjXJpyYQZpLgbAXMuWQ8Wlgr3w\",\n",
    "        user_agent=\"reddit-stream\"\n",
    "    )\n",
    "    subreddit = reddit.subreddit(\"MachineLearning\")\n",
    "\n",
    "    posts = []\n",
    "    for post in subreddit.top(limit=limits):\n",
    "        posts.append({\n",
    "            \"username\": post.author.name if post.author else \"deleted\",\n",
    "            \"title\": post.title,\n",
    "            \"upvotes\": post.ups if hasattr(post, \"ups\") else 0,\n",
    "            \"downvotes\": post.downs if hasattr(post, \"downs\") else \"0\",\n",
    "            \"num_comments\": post.num_comments,\n",
    "            \"created_utc\": datetime.datetime.fromtimestamp(post.created_utc),\n",
    "        })\n",
    "\n",
    "    df = pd.DataFrame(posts)\n",
    "    df[\"created_utc\"] = df[\"created_utc\"].astype(str)\n",
    "    return df"
   ],
   "outputs": [],
   "execution_count": null
  },
  {
   "metadata": {},
   "cell_type": "code",
   "source": "redditdata = get_latest_posts(1000)",
   "id": "9babc474e6f4e578",
   "outputs": [],
   "execution_count": null
  },
  {
   "metadata": {},
   "cell_type": "code",
   "source": "redditdata",
   "id": "75c399a2c9f66150",
   "outputs": [],
   "execution_count": null
  },
  {
   "metadata": {},
   "cell_type": "code",
   "source": "redditdata.to_csv(\"reddit_data.csv\", index=False)",
   "id": "a7f5678c3021ba03",
   "outputs": [],
   "execution_count": null
  },
  {
   "metadata": {
    "ExecuteTime": {
     "end_time": "2025-05-05T21:05:30.449097Z",
     "start_time": "2025-05-05T21:05:30.443155Z"
    }
   },
   "cell_type": "code",
   "source": [
    "import praw\n",
    "import datetime\n",
    "import pandas as pd\n",
    "import re"
   ],
   "id": "1b19fd12b9c5f8ef",
   "outputs": [],
   "execution_count": 22
  },
  {
   "metadata": {
    "ExecuteTime": {
     "end_time": "2025-05-05T21:05:30.843435Z",
     "start_time": "2025-05-05T21:05:30.826827Z"
    }
   },
   "cell_type": "code",
   "source": [
    "df = pd.read_csv(\"reddit_data.csv\")\n",
    "data = df[['username', 'title', 'upvotes']].copy()\n",
    "data.head()"
   ],
   "id": "81ba819c11872f16",
   "outputs": [
    {
     "data": {
      "text/plain": [
       "           username                                              title  \\\n",
       "0       cyrildiagne  [Project] From books to presentations in 10s w...   \n",
       "1      TheInsaneApp  [D] A Demo from 1993 of 32-year-old Yann LeCun...   \n",
       "2  programmerChilli  [R] First Order Motion Model applied to animat...   \n",
       "3      TheInsaneApp  [D] This AI reveals how much time politicians ...   \n",
       "4      TheInsaneApp  [N] AI can turn old photos into moving Images ...   \n",
       "\n",
       "   upvotes  \n",
       "0     8437  \n",
       "1     6283  \n",
       "2     4886  \n",
       "3     4876  \n",
       "4     4799  "
      ],
      "text/html": [
       "<div>\n",
       "<style scoped>\n",
       "    .dataframe tbody tr th:only-of-type {\n",
       "        vertical-align: middle;\n",
       "    }\n",
       "\n",
       "    .dataframe tbody tr th {\n",
       "        vertical-align: top;\n",
       "    }\n",
       "\n",
       "    .dataframe thead th {\n",
       "        text-align: right;\n",
       "    }\n",
       "</style>\n",
       "<table border=\"1\" class=\"dataframe\">\n",
       "  <thead>\n",
       "    <tr style=\"text-align: right;\">\n",
       "      <th></th>\n",
       "      <th>username</th>\n",
       "      <th>title</th>\n",
       "      <th>upvotes</th>\n",
       "    </tr>\n",
       "  </thead>\n",
       "  <tbody>\n",
       "    <tr>\n",
       "      <th>0</th>\n",
       "      <td>cyrildiagne</td>\n",
       "      <td>[Project] From books to presentations in 10s w...</td>\n",
       "      <td>8437</td>\n",
       "    </tr>\n",
       "    <tr>\n",
       "      <th>1</th>\n",
       "      <td>TheInsaneApp</td>\n",
       "      <td>[D] A Demo from 1993 of 32-year-old Yann LeCun...</td>\n",
       "      <td>6283</td>\n",
       "    </tr>\n",
       "    <tr>\n",
       "      <th>2</th>\n",
       "      <td>programmerChilli</td>\n",
       "      <td>[R] First Order Motion Model applied to animat...</td>\n",
       "      <td>4886</td>\n",
       "    </tr>\n",
       "    <tr>\n",
       "      <th>3</th>\n",
       "      <td>TheInsaneApp</td>\n",
       "      <td>[D] This AI reveals how much time politicians ...</td>\n",
       "      <td>4876</td>\n",
       "    </tr>\n",
       "    <tr>\n",
       "      <th>4</th>\n",
       "      <td>TheInsaneApp</td>\n",
       "      <td>[N] AI can turn old photos into moving Images ...</td>\n",
       "      <td>4799</td>\n",
       "    </tr>\n",
       "  </tbody>\n",
       "</table>\n",
       "</div>"
      ]
     },
     "execution_count": 23,
     "metadata": {},
     "output_type": "execute_result"
    }
   ],
   "execution_count": 23
  },
  {
   "metadata": {
    "ExecuteTime": {
     "end_time": "2025-05-05T21:05:31.570520Z",
     "start_time": "2025-05-05T21:05:31.554400Z"
    }
   },
   "cell_type": "code",
   "source": [
    "#tag = ['[D]','[R]','[N]','[P]','[d]','[r]','[n]','[p]','[Discussion]','[Project]','[News]','[Research]']\n",
    "#pattern = '|'.join(re.escape(topic) for  in tag)\n",
    "#data['topic'] = data['title'].str.findall(pattern)\n",
    "#data['title'] = data['title'].str.replace(pattern, '',regex=True).str.strip()\n",
    "#data['topic'] = data['topic'].apply(lambda x: ', '.join(x) if x else 'None')"
   ],
   "id": "a5264bee73ba83b6",
   "outputs": [],
   "execution_count": 24
  },
  {
   "metadata": {
    "ExecuteTime": {
     "end_time": "2025-05-05T21:05:32.036688Z",
     "start_time": "2025-05-05T21:05:32.025574Z"
    }
   },
   "cell_type": "code",
   "source": [
    "tag_map = {\n",
    "    '[D]': 'D', '[d]': 'D', '[Discussion]': 'D',\n",
    "    '[R]': 'R', '[r]': 'R', '[Research]': 'R',\n",
    "    '[N]': 'N', '[n]': 'N', '[News]': 'N',\n",
    "    '[P]': 'P', '[p]': 'P', '[Project]': 'P',\n",
    "}\n",
    "\n",
    "pattern = '|'.join(re.escape(tags) for tags in tag_map)\n",
    "#extract tag into another column\n",
    "data['tag'] = data['title'].str.findall(pattern)\n",
    "def normalize_tag(tag_list):\n",
    "    if not tag_list:\n",
    "        return 'None'\n",
    "    normalized = list(set(tag_map[tags] for tags in tag_list))\n",
    "    return ', '.join(sorted(normalized))\n",
    "\n",
    "data['tag'] = data['tag'].apply(normalize_tag)\n",
    "data['title'] = data['title'].str.replace(pattern, '',regex=True).str.strip()"
   ],
   "id": "9e178a0e910533f0",
   "outputs": [],
   "execution_count": 25
  },
  {
   "metadata": {
    "ExecuteTime": {
     "end_time": "2025-05-05T21:05:32.652880Z",
     "start_time": "2025-05-05T21:05:32.640453Z"
    }
   },
   "cell_type": "code",
   "source": "data",
   "id": "183e7112a8694c57",
   "outputs": [
    {
     "data": {
      "text/plain": [
       "             username                                              title  \\\n",
       "0         cyrildiagne    From books to presentations in 10s with AR + ML   \n",
       "1        TheInsaneApp  A Demo from 1993 of 32-year-old Yann LeCun sho...   \n",
       "2    programmerChilli  First Order Motion Model applied to animate pa...   \n",
       "3        TheInsaneApp  This AI reveals how much time politicians star...   \n",
       "4        TheInsaneApp  AI can turn old photos into moving Images / Li...   \n",
       "..                ...                                                ...   \n",
       "992     sergeyfeldman  Which Machine Learning Classifiers are best fo...   \n",
       "993         milaworld       Alan Turing's “Intelligent Machinery” (1948)   \n",
       "994        krallistic  Ali Rahimi's talk at NIPS(NIPS 2017 Test-of-ti...   \n",
       "995           deleted                  Hopfield Networks is All You Need   \n",
       "996       stripathi08  Resources and topics to cover for entry level ...   \n",
       "\n",
       "     upvotes tag  \n",
       "0       8437   P  \n",
       "1       6283   D  \n",
       "2       4886   R  \n",
       "3       4876   D  \n",
       "4       4799   N  \n",
       "..       ...  ..  \n",
       "992      353   P  \n",
       "993      357   D  \n",
       "994      355   N  \n",
       "995      353   R  \n",
       "996      346   D  \n",
       "\n",
       "[997 rows x 4 columns]"
      ],
      "text/html": [
       "<div>\n",
       "<style scoped>\n",
       "    .dataframe tbody tr th:only-of-type {\n",
       "        vertical-align: middle;\n",
       "    }\n",
       "\n",
       "    .dataframe tbody tr th {\n",
       "        vertical-align: top;\n",
       "    }\n",
       "\n",
       "    .dataframe thead th {\n",
       "        text-align: right;\n",
       "    }\n",
       "</style>\n",
       "<table border=\"1\" class=\"dataframe\">\n",
       "  <thead>\n",
       "    <tr style=\"text-align: right;\">\n",
       "      <th></th>\n",
       "      <th>username</th>\n",
       "      <th>title</th>\n",
       "      <th>upvotes</th>\n",
       "      <th>tag</th>\n",
       "    </tr>\n",
       "  </thead>\n",
       "  <tbody>\n",
       "    <tr>\n",
       "      <th>0</th>\n",
       "      <td>cyrildiagne</td>\n",
       "      <td>From books to presentations in 10s with AR + ML</td>\n",
       "      <td>8437</td>\n",
       "      <td>P</td>\n",
       "    </tr>\n",
       "    <tr>\n",
       "      <th>1</th>\n",
       "      <td>TheInsaneApp</td>\n",
       "      <td>A Demo from 1993 of 32-year-old Yann LeCun sho...</td>\n",
       "      <td>6283</td>\n",
       "      <td>D</td>\n",
       "    </tr>\n",
       "    <tr>\n",
       "      <th>2</th>\n",
       "      <td>programmerChilli</td>\n",
       "      <td>First Order Motion Model applied to animate pa...</td>\n",
       "      <td>4886</td>\n",
       "      <td>R</td>\n",
       "    </tr>\n",
       "    <tr>\n",
       "      <th>3</th>\n",
       "      <td>TheInsaneApp</td>\n",
       "      <td>This AI reveals how much time politicians star...</td>\n",
       "      <td>4876</td>\n",
       "      <td>D</td>\n",
       "    </tr>\n",
       "    <tr>\n",
       "      <th>4</th>\n",
       "      <td>TheInsaneApp</td>\n",
       "      <td>AI can turn old photos into moving Images / Li...</td>\n",
       "      <td>4799</td>\n",
       "      <td>N</td>\n",
       "    </tr>\n",
       "    <tr>\n",
       "      <th>...</th>\n",
       "      <td>...</td>\n",
       "      <td>...</td>\n",
       "      <td>...</td>\n",
       "      <td>...</td>\n",
       "    </tr>\n",
       "    <tr>\n",
       "      <th>992</th>\n",
       "      <td>sergeyfeldman</td>\n",
       "      <td>Which Machine Learning Classifiers are best fo...</td>\n",
       "      <td>353</td>\n",
       "      <td>P</td>\n",
       "    </tr>\n",
       "    <tr>\n",
       "      <th>993</th>\n",
       "      <td>milaworld</td>\n",
       "      <td>Alan Turing's “Intelligent Machinery” (1948)</td>\n",
       "      <td>357</td>\n",
       "      <td>D</td>\n",
       "    </tr>\n",
       "    <tr>\n",
       "      <th>994</th>\n",
       "      <td>krallistic</td>\n",
       "      <td>Ali Rahimi's talk at NIPS(NIPS 2017 Test-of-ti...</td>\n",
       "      <td>355</td>\n",
       "      <td>N</td>\n",
       "    </tr>\n",
       "    <tr>\n",
       "      <th>995</th>\n",
       "      <td>deleted</td>\n",
       "      <td>Hopfield Networks is All You Need</td>\n",
       "      <td>353</td>\n",
       "      <td>R</td>\n",
       "    </tr>\n",
       "    <tr>\n",
       "      <th>996</th>\n",
       "      <td>stripathi08</td>\n",
       "      <td>Resources and topics to cover for entry level ...</td>\n",
       "      <td>346</td>\n",
       "      <td>D</td>\n",
       "    </tr>\n",
       "  </tbody>\n",
       "</table>\n",
       "<p>997 rows × 4 columns</p>\n",
       "</div>"
      ]
     },
     "execution_count": 26,
     "metadata": {},
     "output_type": "execute_result"
    }
   ],
   "execution_count": 26
  },
  {
   "metadata": {
    "ExecuteTime": {
     "end_time": "2025-05-05T21:05:26.185051Z",
     "start_time": "2025-05-05T21:05:26.170391Z"
    }
   },
   "cell_type": "code",
   "source": "data.to_csv(\"check1.csv\", index=False)",
   "id": "b6ef1baaeabb36c",
   "outputs": [],
   "execution_count": 21
  },
  {
   "metadata": {},
   "cell_type": "code",
   "outputs": [],
   "execution_count": null,
   "source": "",
   "id": "71a704d489bcfe95"
  }
 ],
 "metadata": {
  "kernelspec": {
   "display_name": "Python 3",
   "language": "python",
   "name": "python3"
  },
  "language_info": {
   "codemirror_mode": {
    "name": "ipython",
    "version": 2
   },
   "file_extension": ".py",
   "mimetype": "text/x-python",
   "name": "python",
   "nbconvert_exporter": "python",
   "pygments_lexer": "ipython2",
   "version": "2.7.6"
  }
 },
 "nbformat": 4,
 "nbformat_minor": 5
}
